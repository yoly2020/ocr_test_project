{
  "nbformat": 4,
  "nbformat_minor": 0,
  "metadata": {
    "colab": {
      "name": "OCR1.ipynb",
      "provenance": [],
      "collapsed_sections": [],
      "machine_shape": "hm",
      "authorship_tag": "ABX9TyPD0BXGG7I3DdI7XYmlFtn1",
      "include_colab_link": true
    },
    "kernelspec": {
      "name": "python3",
      "display_name": "Python 3"
    },
    "accelerator": "GPU"
  },
  "cells": [
    {
      "cell_type": "markdown",
      "metadata": {
        "id": "view-in-github",
        "colab_type": "text"
      },
      "source": [
        "<a href=\"https://colab.research.google.com/github/yoly2020/ocr_test_project/blob/main/OCR1.ipynb\" target=\"_parent\"><img src=\"https://colab.research.google.com/assets/colab-badge.svg\" alt=\"Open In Colab\"/></a>"
      ]
    },
    {
      "cell_type": "code",
      "metadata": {
        "id": "eGE_L7_IRILT",
        "outputId": "742901f8-6099-41a7-8a01-3684e796bdcd",
        "colab": {
          "base_uri": "https://localhost:8080/"
        }
      },
      "source": [
        "from google.colab import drive\n",
        "drive.mount('/content/gdrive')"
      ],
      "execution_count": 3,
      "outputs": [
        {
          "output_type": "stream",
          "text": [
            "Mounted at /content/gdrive\n"
          ],
          "name": "stdout"
        }
      ]
    },
    {
      "cell_type": "code",
      "metadata": {
        "id": "kxwTlr-COdrK"
      },
      "source": [
        "import tensorflow as tf\n",
        "import numpy as np\n",
        "from tensorflow.keras.datasets import mnist\n",
        "import sklearn\n",
        "from tensorflow import keras\n",
        "import pandas as pd\n",
        "import matplotlib\n",
        "import matplotlib.pyplot as plt\n",
        "matplotlib.use(\"Agg\")"
      ],
      "execution_count": 4,
      "outputs": []
    },
    {
      "cell_type": "code",
      "metadata": {
        "id": "IXQrPSaqTI0U"
      },
      "source": [
        "!"
      ],
      "execution_count": null,
      "outputs": []
    },
    {
      "cell_type": "code",
      "metadata": {
        "id": "6fWdtBQeRg67",
        "outputId": "cf7d8f62-132f-4c38-d02c-7c8c66ef2256",
        "colab": {
          "base_uri": "https://localhost:8080/"
        }
      },
      "source": [
        "print(\"tensorflow version: \",tf.__version__)\n",
        "print(\"numpy version: \",np.__version__)\n",
        "print(\"keras version: \",keras.__version__)\n",
        "print(\"sklearn version: \",sklearn.__version__)\n",
        "print(\"pandas version: \",pd.__version__)\n",
        "print(\"matplotlib version: \",matplotlib.__version__)"
      ],
      "execution_count": 5,
      "outputs": [
        {
          "output_type": "stream",
          "text": [
            "tensorflow version:  2.3.0\n",
            "numpy version:  1.18.5\n",
            "keras version:  2.4.0\n",
            "sklearn version:  0.22.2.post1\n",
            "pandas version:  1.1.2\n",
            "matplotlib version:  3.2.2\n"
          ],
          "name": "stdout"
        }
      ]
    },
    {
      "cell_type": "code",
      "metadata": {
        "id": "LmIZiInvRG2r",
        "outputId": "f3255fb7-5514-42c2-961f-01bd5524caff",
        "colab": {
          "base_uri": "https://localhost:8080/"
        }
      },
      "source": [
        "(x1_train, y1_train), (x1_test, y1_test) = mnist.load_data()"
      ],
      "execution_count": 6,
      "outputs": [
        {
          "output_type": "stream",
          "text": [
            "Downloading data from https://storage.googleapis.com/tensorflow/tf-keras-datasets/mnist.npz\n",
            "11493376/11490434 [==============================] - 0s 0us/step\n"
          ],
          "name": "stdout"
        }
      ]
    },
    {
      "cell_type": "code",
      "metadata": {
        "id": "ChyQ9xWwiH6H",
        "outputId": "745f8fc9-3e18-4729-e6cb-45babd204870",
        "colab": {
          "base_uri": "https://localhost:8080/"
        }
      },
      "source": [
        "mnist_x=np.vstack([x1_train,x1_test])\n",
        "mnist_y=np.hstack([y1_train,y1_test])\n",
        "print(mnist_x.shape)\n",
        "print(mnist_y.shape)"
      ],
      "execution_count": 7,
      "outputs": [
        {
          "output_type": "stream",
          "text": [
            "(70000, 28, 28)\n",
            "(70000,)\n"
          ],
          "name": "stdout"
        }
      ]
    },
    {
      "cell_type": "code",
      "metadata": {
        "id": "ahigqDZTk31T"
      },
      "source": [
        ""
      ],
      "execution_count": null,
      "outputs": []
    },
    {
      "cell_type": "code",
      "metadata": {
        "id": "-qIjUkx5WYHJ"
      },
      "source": [
        "import os\n",
        "os.chdir('/content/gdrive/My Drive/OCR Project/Kaggle Handwritten Alphabets/')\n",
        "kag_dataset=pd.read_csv('A_Z Handwritten Data.csv').astype('float32')\n",
        "kag_dataset.rename(columns={'0':'label'},inplace=True)"
      ],
      "execution_count": 9,
      "outputs": []
    },
    {
      "cell_type": "code",
      "metadata": {
        "id": "-YLHA0jKdTNi",
        "outputId": "8fa14cc0-05e1-4d7f-988e-164ec1b9ba62",
        "colab": {
          "base_uri": "https://localhost:8080/"
        }
      },
      "source": [
        "kag_x=kag_dataset.drop('label',axis=1)\n",
        "kag_y=kag_dataset['label']\n",
        "print(kag_x.shape)\n",
        "print(kag_y.shape)\n",
        "print(kag_x.head())"
      ],
      "execution_count": 10,
      "outputs": [
        {
          "output_type": "stream",
          "text": [
            "(372450, 784)\n",
            "(372450,)\n",
            "   0.1  0.2  0.3  0.4  0.5  0.6  ...  0.643  0.644  0.645  0.646  0.647  0.648\n",
            "0  0.0  0.0  0.0  0.0  0.0  0.0  ...    0.0    0.0    0.0    0.0    0.0    0.0\n",
            "1  0.0  0.0  0.0  0.0  0.0  0.0  ...    0.0    0.0    0.0    0.0    0.0    0.0\n",
            "2  0.0  0.0  0.0  0.0  0.0  0.0  ...    0.0    0.0    0.0    0.0    0.0    0.0\n",
            "3  0.0  0.0  0.0  0.0  0.0  0.0  ...    0.0    0.0    0.0    0.0    0.0    0.0\n",
            "4  0.0  0.0  0.0  0.0  0.0  0.0  ...    0.0    0.0    0.0    0.0    0.0    0.0\n",
            "\n",
            "[5 rows x 784 columns]\n"
          ],
          "name": "stdout"
        }
      ]
    },
    {
      "cell_type": "code",
      "metadata": {
        "id": "OQXqku6qh4s1"
      },
      "source": [
        "kag_x=kag_x.values.reshape(kag_x.shape[0],28,28).astype('float32')\n",
        "kag_y=kag_y.values"
      ],
      "execution_count": 11,
      "outputs": []
    },
    {
      "cell_type": "code",
      "metadata": {
        "id": "2LZpaWbGmogl",
        "outputId": "2f6580b1-3b0b-4c25-cfed-c4b559c7ad56",
        "colab": {
          "base_uri": "https://localhost:8080/"
        }
      },
      "source": [
        "print(kag_x.shape)\n",
        "print(kag_y.shape)"
      ],
      "execution_count": 12,
      "outputs": [
        {
          "output_type": "stream",
          "text": [
            "(372450, 28, 28)\n",
            "(372450,)\n"
          ],
          "name": "stdout"
        }
      ]
    },
    {
      "cell_type": "code",
      "metadata": {
        "id": "HMvuRNKaihzs"
      },
      "source": [
        "X=np.vstack([mnist_x,kag_x])\n",
        "kag_y+=10.0\n",
        "y=np.hstack([mnist_y,kag_y])"
      ],
      "execution_count": 13,
      "outputs": []
    },
    {
      "cell_type": "code",
      "metadata": {
        "id": "5TKImWTT2lt7",
        "outputId": "7bf688a1-c7a5-4ef4-b710-0acb523e1ba4",
        "colab": {
          "base_uri": "https://localhost:8080/"
        }
      },
      "source": [
        "y2=pd.DataFrame(y)\n",
        "print(y2.describe)\n",
        "# y2 shows that we change the labels of Kaggle Alphabets from [0,25] to [10,35] \n",
        "# while remaining the labels of MNIST as [0,9]"
      ],
      "execution_count": 14,
      "outputs": [
        {
          "output_type": "stream",
          "text": [
            "<bound method NDFrame.describe of            0\n",
            "0        5.0\n",
            "1        0.0\n",
            "2        4.0\n",
            "3        1.0\n",
            "4        9.0\n",
            "...      ...\n",
            "442445  35.0\n",
            "442446  35.0\n",
            "442447  35.0\n",
            "442448  35.0\n",
            "442449  35.0\n",
            "\n",
            "[442450 rows x 1 columns]>\n"
          ],
          "name": "stdout"
        }
      ]
    },
    {
      "cell_type": "code",
      "metadata": {
        "id": "JBPc5DSese3D"
      },
      "source": [
        "# import customized modules from google drive into colab notebooks\n",
        "import sys\n",
        "sys.path.append('/content/gdrive/My Drive/OCR Project/Python Modules/customized_resnet_model')"
      ],
      "execution_count": 15,
      "outputs": []
    },
    {
      "cell_type": "code",
      "metadata": {
        "id": "fCmyDJiStjJ1"
      },
      "source": [
        "from resnet import ResNet"
      ],
      "execution_count": 16,
      "outputs": []
    },
    {
      "cell_type": "code",
      "metadata": {
        "id": "xduDq7tIt7-e"
      },
      "source": [
        "from tensorflow.keras.preprocessing.image import ImageDataGenerator\n",
        "from tensorflow.keras.optimizers import SGD # Stochastic Gradient Descent\n",
        "from sklearn.preprocessing import LabelBinarizer # convert labels from integers to a vector in what is called one-hot encoding\n",
        "from sklearn.model_selection import train_test_split # split out testing and training data sets\n",
        "from sklearn.metrics import classification_report # print out a nicely formatted classification report\n",
        "from imutils import build_montages # Writer: Adrian URL: https://github.com/jrosebr1/imutils\n",
        "import matplotlib.pyplot as plt\n",
        "import numpy as np\n",
        "import argparse # parse command line arguments\n",
        "from google.colab.patches import cv2\n",
        "from google.colab.patches import cv2_imshow"
      ],
      "execution_count": 17,
      "outputs": []
    },
    {
      "cell_type": "code",
      "metadata": {
        "id": "NCDE2zxcufZ5"
      },
      "source": [
        "EPOCHS=50 # number of epochs to train for\n",
        "INIT_LR=1e-1 # initial learning rate\n",
        "BS=64 # batch size \n",
        "# 之前是128, 出现了小高峰"
      ],
      "execution_count": 18,
      "outputs": []
    },
    {
      "cell_type": "code",
      "metadata": {
        "id": "JuQpOj76zDP6",
        "outputId": "b8565e9d-7e49-4c0a-afd0-c3ae10a23dc7",
        "colab": {
          "base_uri": "https://localhost:8080/",
          "height": 62
        }
      },
      "source": [
        "from google.colab.patches import cv2_imshow\n",
        "cv2_imshow(X[0])\n",
        "print(y[0]) # y是浮点数，最好能够转化为categorical？"
      ],
      "execution_count": 19,
      "outputs": [
        {
          "output_type": "display_data",
          "data": {
            "image/png": "[encoded data removed]",
            "text/plain": [
              "<PIL.Image.Image image mode=L size=28x28 at 0x7F77C792BE48>"
            ]
          },
          "metadata": {
            "tags": []
          }
        },
        {
          "output_type": "stream",
          "text": [
            "5.0\n"
          ],
          "name": "stdout"
        }
      ]
    },
    {
      "cell_type": "code",
      "metadata": {
        "id": "fYQNBMGJ2rgr"
      },
      "source": [
        "# resize the image size to be fit for the ResNet model architechture\n",
        "X=[cv2.resize(item,(32,32)) for item in X]\n",
        "X=np.array(X, dtype=\"float32\")\n",
        "# 还有一个问题，32x32大小的图片是否适合最后的识别大小？"
      ],
      "execution_count": 20,
      "outputs": []
    },
    {
      "cell_type": "code",
      "metadata": {
        "id": "bAAVR8c_3PLV"
      },
      "source": [
        "# add a channel to every image\n",
        "# to make it compatible with the ResNet model in Keras/TensorFlow\n",
        "X=np.expand_dims(X,axis=-1)\n",
        "\n",
        "# scale the image intensity from [0,255] down to [0,1]\n",
        "X/=255.0"
      ],
      "execution_count": 21,
      "outputs": []
    },
    {
      "cell_type": "code",
      "metadata": {
        "id": "H8ppOt3rIcko",
        "outputId": "6cdf1d06-dd23-42cc-9116-7715e96e8323",
        "colab": {
          "base_uri": "https://localhost:8080/"
        }
      },
      "source": [
        "X.shape"
      ],
      "execution_count": 22,
      "outputs": [
        {
          "output_type": "execute_result",
          "data": {
            "text/plain": [
              "(442450, 32, 32, 1)"
            ]
          },
          "metadata": {
            "tags": []
          },
          "execution_count": 22
        }
      ]
    },
    {
      "cell_type": "code",
      "metadata": {
        "id": "W4bvxU4o9jxL"
      },
      "source": [
        "# convert the labels from integers i.e. [0,35], to one-hot encoding vector\n",
        "lb=LabelBinarizer()\n",
        "y=lb.fit_transform(y)\n",
        "class_counts=y.sum(axis=0) # sum up(by columns) total nunbers of different labels respectively"
      ],
      "execution_count": 23,
      "outputs": []
    },
    {
      "cell_type": "code",
      "metadata": {
        "id": "4Fokmd86-xZR",
        "outputId": "53dcdffd-8cfc-442c-9f32-a9e5be2f7052",
        "colab": {
          "base_uri": "https://localhost:8080/"
        }
      },
      "source": [
        "print(class_counts)\n",
        "print(class_counts.shape) \n",
        "print(y.shape)\n",
        "print(y[0:10]) # show the first 10 one-hot encoding labels of our dataset"
      ],
      "execution_count": 24,
      "outputs": [
        {
          "output_type": "stream",
          "text": [
            "[ 6903  7877  6990  7141  6824  6313  6876  7293  6825  6958 13869  8668\n",
            " 23409 10134 11440  1163  5762  7218  1120  8493  5603 11586 12336 19010\n",
            " 57825 19341  5812 11566 48419 22495 29008  4182 10784  6272 10859  6076]\n",
            "(36,)\n",
            "(442450, 36)\n",
            "[[0 0 0 0 0 1 0 0 0 0 0 0 0 0 0 0 0 0 0 0 0 0 0 0 0 0 0 0 0 0 0 0 0 0 0 0]\n",
            " [1 0 0 0 0 0 0 0 0 0 0 0 0 0 0 0 0 0 0 0 0 0 0 0 0 0 0 0 0 0 0 0 0 0 0 0]\n",
            " [0 0 0 0 1 0 0 0 0 0 0 0 0 0 0 0 0 0 0 0 0 0 0 0 0 0 0 0 0 0 0 0 0 0 0 0]\n",
            " [0 1 0 0 0 0 0 0 0 0 0 0 0 0 0 0 0 0 0 0 0 0 0 0 0 0 0 0 0 0 0 0 0 0 0 0]\n",
            " [0 0 0 0 0 0 0 0 0 1 0 0 0 0 0 0 0 0 0 0 0 0 0 0 0 0 0 0 0 0 0 0 0 0 0 0]\n",
            " [0 0 1 0 0 0 0 0 0 0 0 0 0 0 0 0 0 0 0 0 0 0 0 0 0 0 0 0 0 0 0 0 0 0 0 0]\n",
            " [0 1 0 0 0 0 0 0 0 0 0 0 0 0 0 0 0 0 0 0 0 0 0 0 0 0 0 0 0 0 0 0 0 0 0 0]\n",
            " [0 0 0 1 0 0 0 0 0 0 0 0 0 0 0 0 0 0 0 0 0 0 0 0 0 0 0 0 0 0 0 0 0 0 0 0]\n",
            " [0 1 0 0 0 0 0 0 0 0 0 0 0 0 0 0 0 0 0 0 0 0 0 0 0 0 0 0 0 0 0 0 0 0 0 0]\n",
            " [0 0 0 0 1 0 0 0 0 0 0 0 0 0 0 0 0 0 0 0 0 0 0 0 0 0 0 0 0 0 0 0 0 0 0 0]]\n"
          ],
          "name": "stdout"
        }
      ]
    },
    {
      "cell_type": "code",
      "metadata": {
        "id": "Fhm1opdf-0Dq",
        "outputId": "8894be0a-9bf6-453e-e33d-7c80f8e0b976",
        "colab": {
          "base_uri": "https://localhost:8080/"
        }
      },
      "source": [
        "# calculate the weights of different classes\n",
        "# in order to reduce the skew in data sets\n",
        "class_weights={}\n",
        "for i in range(0,len(class_counts)):\n",
        "  class_weights[i]=class_counts.max()/class_counts[i]\n",
        "  print(i,': ',class_weights[i])\n"
      ],
      "execution_count": 25,
      "outputs": [
        {
          "output_type": "stream",
          "text": [
            "0 :  8.376792698826597\n",
            "1 :  7.340992763742541\n",
            "2 :  8.272532188841202\n",
            "3 :  8.097605377398123\n",
            "4 :  8.473769050410317\n",
            "5 :  9.15967052114684\n",
            "6 :  8.409685863874346\n",
            "7 :  7.928835870012341\n",
            "8 :  8.472527472527473\n",
            "9 :  8.310577752227651\n",
            "10 :  4.169370538611291\n",
            "11 :  6.671089063221043\n",
            "12 :  2.4702037677816224\n",
            "13 :  5.7060390763765545\n",
            "14 :  5.0546328671328675\n",
            "15 :  49.72055030094583\n",
            "16 :  10.035577924331829\n",
            "17 :  8.011221945137157\n",
            "18 :  51.629464285714285\n",
            "19 :  6.808548216178029\n",
            "20 :  10.320364090665715\n",
            "21 :  4.990937338166753\n",
            "22 :  4.6875\n",
            "23 :  3.0418200946870066\n",
            "24 :  1.0\n",
            "25 :  2.989762680316426\n",
            "26 :  9.94924294562973\n",
            "27 :  4.999567698426422\n",
            "28 :  1.1942625828703608\n",
            "29 :  2.5705712380529007\n",
            "30 :  1.993415609487038\n",
            "31 :  13.827116212338593\n",
            "32 :  5.362110534124629\n",
            "33 :  9.21954719387755\n",
            "34 :  5.3250759738465785\n",
            "35 :  9.51695194206715\n"
          ],
          "name": "stdout"
        }
      ]
    },
    {
      "cell_type": "code",
      "metadata": {
        "id": "lzE6zonmBTgg"
      },
      "source": [
        "# split the data into 80% train and 20% test\n",
        "(X_train, X_test, y_train, y_test) = train_test_split(X, y, test_size=0.20, stratify=y, random_state=42) \n",
        "# 不需要shuffle（train_test_split中有这个参数）么？"
      ],
      "execution_count": 26,
      "outputs": []
    },
    {
      "cell_type": "code",
      "metadata": {
        "id": "PZjF_jkrDiOl"
      },
      "source": [
        "# use image generator from Keras to create more balanced data set, it can improve the results of ResNet\n",
        "aug = ImageDataGenerator(\n",
        "\trotation_range=10,\n",
        "\tzoom_range=0.05,\n",
        "\twidth_shift_range=0.1,\n",
        "\theight_shift_range=0.1,\n",
        "\tshear_range=0.15,\n",
        "\thorizontal_flip=False,\n",
        "\tfill_mode=\"nearest\")\n"
      ],
      "execution_count": 27,
      "outputs": []
    },
    {
      "cell_type": "code",
      "metadata": {
        "id": "Wosuxh3SEuIa"
      },
      "source": [
        "opt = SGD(lr=INIT_LR, decay=INIT_LR/EPOCHS) # optimizer for the ResNet model"
      ],
      "execution_count": 28,
      "outputs": []
    },
    {
      "cell_type": "code",
      "metadata": {
        "id": "tlYCENmZEuce"
      },
      "source": [
        "model = ResNet.build(32, 32, 1, len(lb.classes_), (3, 3, 3), (64, 64, 128, 256), reg=0.0005)\n",
        "model.compile(loss=\"categorical_crossentropy\", optimizer=opt, metrics=[\"accuracy\"])"
      ],
      "execution_count": 29,
      "outputs": []
    },
    {
      "cell_type": "code",
      "metadata": {
        "id": "hp17iKgfF5Wy",
        "outputId": "4dbeb2e4-c2fe-48e9-8a68-7b3db73b27c8",
        "colab": {
          "base_uri": "https://localhost:8080/"
        }
      },
      "source": [
        "H = model.fit(\n",
        "\taug.flow(X_train, y_train, batch_size=BS),\n",
        "\tvalidation_data=(X_test, y_test),\n",
        "\tsteps_per_epoch=len(X_train) // BS,  \n",
        "\tepochs=EPOCHS,\n",
        "\tclass_weight=class_weights,\n",
        "\tverbose=1)\n",
        "# aug.flow: inline data augmentation\n",
        "# validation_data: test input images and test labels\n",
        "# stesps_per_epoch: how many batches are run per each pass of the full training data\n",
        "# epochs: the number of complete passes through the full data set during training\n",
        "# class_weight: weights due to the imbalance of data samples for of different classes in the training data\n",
        "# verbose: shows a progress bar during the training\n",
        "# //: 取整除 - 返回商的整数部分（向下取整）"
      ],
      "execution_count": 30,
      "outputs": [
        {
          "output_type": "stream",
          "text": [
            "Epoch 1/50\n",
            "5530/5530 [==============================] - 126s 23ms/step - loss: 1.7225 - accuracy: 0.8796 - val_loss: 0.5672 - val_accuracy: 0.8907\n",
            "Epoch 2/50\n",
            "5530/5530 [==============================] - 126s 23ms/step - loss: 0.9601 - accuracy: 0.9304 - val_loss: 0.5461 - val_accuracy: 0.9040\n",
            "Epoch 3/50\n",
            "5530/5530 [==============================] - 126s 23ms/step - loss: 0.8858 - accuracy: 0.9360 - val_loss: 0.5592 - val_accuracy: 0.8920\n",
            "Epoch 4/50\n",
            "5530/5530 [==============================] - 126s 23ms/step - loss: 0.8466 - accuracy: 0.9393 - val_loss: 0.5155 - val_accuracy: 0.9088\n",
            "Epoch 5/50\n",
            "5530/5530 [==============================] - 126s 23ms/step - loss: 0.8213 - accuracy: 0.9411 - val_loss: 0.5219 - val_accuracy: 0.9073\n",
            "Epoch 6/50\n",
            "5530/5530 [==============================] - 125s 23ms/step - loss: 0.7979 - accuracy: 0.9440 - val_loss: 0.5139 - val_accuracy: 0.9063\n",
            "Epoch 7/50\n",
            "5530/5530 [==============================] - 126s 23ms/step - loss: 0.7864 - accuracy: 0.9443 - val_loss: 0.4933 - val_accuracy: 0.9171\n",
            "Epoch 8/50\n",
            "5530/5530 [==============================] - 127s 23ms/step - loss: 0.7718 - accuracy: 0.9460 - val_loss: 0.4790 - val_accuracy: 0.9245\n",
            "Epoch 9/50\n",
            "5530/5530 [==============================] - 126s 23ms/step - loss: 0.7605 - accuracy: 0.9475 - val_loss: 0.4826 - val_accuracy: 0.9253\n",
            "Epoch 10/50\n",
            "5530/5530 [==============================] - 126s 23ms/step - loss: 0.7508 - accuracy: 0.9488 - val_loss: 0.4818 - val_accuracy: 0.9220\n",
            "Epoch 11/50\n",
            "5530/5530 [==============================] - 125s 23ms/step - loss: 0.7391 - accuracy: 0.9495 - val_loss: 0.4425 - val_accuracy: 0.9489\n",
            "Epoch 12/50\n",
            "5530/5530 [==============================] - 126s 23ms/step - loss: 0.7328 - accuracy: 0.9502 - val_loss: 0.4593 - val_accuracy: 0.9354\n",
            "Epoch 13/50\n",
            "5530/5530 [==============================] - 126s 23ms/step - loss: 0.7313 - accuracy: 0.9507 - val_loss: 0.4419 - val_accuracy: 0.9473\n",
            "Epoch 14/50\n",
            "5530/5530 [==============================] - 126s 23ms/step - loss: 0.7223 - accuracy: 0.9516 - val_loss: 0.4323 - val_accuracy: 0.9546\n",
            "Epoch 15/50\n",
            "5530/5530 [==============================] - 127s 23ms/step - loss: 0.7208 - accuracy: 0.9518 - val_loss: 0.4446 - val_accuracy: 0.9476\n",
            "Epoch 16/50\n",
            "5530/5530 [==============================] - 126s 23ms/step - loss: 0.7125 - accuracy: 0.9525 - val_loss: 0.4620 - val_accuracy: 0.9327\n",
            "Epoch 17/50\n",
            "5530/5530 [==============================] - 127s 23ms/step - loss: 0.7109 - accuracy: 0.9529 - val_loss: 0.4388 - val_accuracy: 0.9487\n",
            "Epoch 18/50\n",
            "5530/5530 [==============================] - 127s 23ms/step - loss: 0.7048 - accuracy: 0.9536 - val_loss: 0.4193 - val_accuracy: 0.9600\n",
            "Epoch 19/50\n",
            "5530/5530 [==============================] - 126s 23ms/step - loss: 0.6980 - accuracy: 0.9544 - val_loss: 0.4238 - val_accuracy: 0.9573\n",
            "Epoch 20/50\n",
            "5530/5530 [==============================] - 127s 23ms/step - loss: 0.6934 - accuracy: 0.9550 - val_loss: 0.4206 - val_accuracy: 0.9576\n",
            "Epoch 21/50\n",
            "5530/5530 [==============================] - 126s 23ms/step - loss: 0.6902 - accuracy: 0.9555 - val_loss: 0.4192 - val_accuracy: 0.9590\n",
            "Epoch 22/50\n",
            "5530/5530 [==============================] - 128s 23ms/step - loss: 0.6857 - accuracy: 0.9563 - val_loss: 0.4118 - val_accuracy: 0.9612\n",
            "Epoch 23/50\n",
            "5530/5530 [==============================] - 126s 23ms/step - loss: 0.6855 - accuracy: 0.9558 - val_loss: 0.4292 - val_accuracy: 0.9546\n",
            "Epoch 24/50\n",
            "5530/5530 [==============================] - 127s 23ms/step - loss: 0.6810 - accuracy: 0.9564 - val_loss: 0.4148 - val_accuracy: 0.9604\n",
            "Epoch 25/50\n",
            "5530/5530 [==============================] - 127s 23ms/step - loss: 0.6776 - accuracy: 0.9565 - val_loss: 0.4156 - val_accuracy: 0.9596\n",
            "Epoch 26/50\n",
            "5530/5530 [==============================] - 126s 23ms/step - loss: 0.6746 - accuracy: 0.9570 - val_loss: 0.4124 - val_accuracy: 0.9609\n",
            "Epoch 27/50\n",
            "5530/5530 [==============================] - 127s 23ms/step - loss: 0.6722 - accuracy: 0.9578 - val_loss: 0.4063 - val_accuracy: 0.9629\n",
            "Epoch 28/50\n",
            "5530/5530 [==============================] - 126s 23ms/step - loss: 0.6698 - accuracy: 0.9577 - val_loss: 0.4107 - val_accuracy: 0.9612\n",
            "Epoch 29/50\n",
            "5530/5530 [==============================] - 126s 23ms/step - loss: 0.6664 - accuracy: 0.9585 - val_loss: 0.4056 - val_accuracy: 0.9628\n",
            "Epoch 30/50\n",
            "5530/5530 [==============================] - 127s 23ms/step - loss: 0.6648 - accuracy: 0.9580 - val_loss: 0.4021 - val_accuracy: 0.9646\n",
            "Epoch 31/50\n",
            "5530/5530 [==============================] - 126s 23ms/step - loss: 0.6626 - accuracy: 0.9587 - val_loss: 0.4037 - val_accuracy: 0.9632\n",
            "Epoch 32/50\n",
            "5530/5530 [==============================] - 127s 23ms/step - loss: 0.6627 - accuracy: 0.9587 - val_loss: 0.4012 - val_accuracy: 0.9647\n",
            "Epoch 33/50\n",
            "5530/5530 [==============================] - 127s 23ms/step - loss: 0.6581 - accuracy: 0.9592 - val_loss: 0.4040 - val_accuracy: 0.9626\n",
            "Epoch 34/50\n",
            "5530/5530 [==============================] - 127s 23ms/step - loss: 0.6561 - accuracy: 0.9600 - val_loss: 0.4020 - val_accuracy: 0.9636\n",
            "Epoch 35/50\n",
            "5530/5530 [==============================] - 127s 23ms/step - loss: 0.6540 - accuracy: 0.9597 - val_loss: 0.4022 - val_accuracy: 0.9634\n",
            "Epoch 36/50\n",
            "5530/5530 [==============================] - 126s 23ms/step - loss: 0.6551 - accuracy: 0.9600 - val_loss: 0.4030 - val_accuracy: 0.9631\n",
            "Epoch 37/50\n",
            "5530/5530 [==============================] - 126s 23ms/step - loss: 0.6512 - accuracy: 0.9607 - val_loss: 0.3992 - val_accuracy: 0.9647\n",
            "Epoch 38/50\n",
            "5530/5530 [==============================] - 126s 23ms/step - loss: 0.6478 - accuracy: 0.9604 - val_loss: 0.3969 - val_accuracy: 0.9650\n",
            "Epoch 39/50\n",
            "5530/5530 [==============================] - 126s 23ms/step - loss: 0.6474 - accuracy: 0.9608 - val_loss: 0.3980 - val_accuracy: 0.9650\n",
            "Epoch 40/50\n",
            "5530/5530 [==============================] - 126s 23ms/step - loss: 0.6434 - accuracy: 0.9614 - val_loss: 0.3975 - val_accuracy: 0.9642\n",
            "Epoch 41/50\n",
            "5530/5530 [==============================] - 126s 23ms/step - loss: 0.6406 - accuracy: 0.9613 - val_loss: 0.3964 - val_accuracy: 0.9651\n",
            "Epoch 42/50\n",
            "5530/5530 [==============================] - 126s 23ms/step - loss: 0.6411 - accuracy: 0.9616 - val_loss: 0.4002 - val_accuracy: 0.9634\n",
            "Epoch 43/50\n",
            "5530/5530 [==============================] - 125s 23ms/step - loss: 0.6400 - accuracy: 0.9616 - val_loss: 0.3963 - val_accuracy: 0.9648\n",
            "Epoch 44/50\n",
            "5530/5530 [==============================] - 125s 23ms/step - loss: 0.6379 - accuracy: 0.9619 - val_loss: 0.3959 - val_accuracy: 0.9653\n",
            "Epoch 45/50\n",
            "5530/5530 [==============================] - 126s 23ms/step - loss: 0.6386 - accuracy: 0.9618 - val_loss: 0.3974 - val_accuracy: 0.9644\n",
            "Epoch 46/50\n",
            "5530/5530 [==============================] - 125s 23ms/step - loss: 0.6382 - accuracy: 0.9620 - val_loss: 0.3948 - val_accuracy: 0.9646\n",
            "Epoch 47/50\n",
            "5530/5530 [==============================] - 125s 23ms/step - loss: 0.6331 - accuracy: 0.9625 - val_loss: 0.4000 - val_accuracy: 0.9633\n",
            "Epoch 48/50\n",
            "5530/5530 [==============================] - 125s 23ms/step - loss: 0.6333 - accuracy: 0.9623 - val_loss: 0.3932 - val_accuracy: 0.9653\n",
            "Epoch 49/50\n",
            "5530/5530 [==============================] - 125s 23ms/step - loss: 0.6301 - accuracy: 0.9627 - val_loss: 0.3935 - val_accuracy: 0.9658\n",
            "Epoch 50/50\n",
            "5530/5530 [==============================] - 126s 23ms/step - loss: 0.6318 - accuracy: 0.9625 - val_loss: 0.3928 - val_accuracy: 0.9655\n"
          ],
          "name": "stdout"
        }
      ]
    },
    {
      "cell_type": "code",
      "metadata": {
        "id": "O4beDrxW54gN"
      },
      "source": [
        "labelNames=\"0123456789\"\n",
        "labelNames+=\"ABCDEFGHIJKLMNOPQRSTUVWXYZ\"\n",
        "labelNames=[l for l in labelNames]\n"
      ],
      "execution_count": 31,
      "outputs": []
    },
    {
      "cell_type": "code",
      "metadata": {
        "id": "Q37kkjwEOXYq",
        "outputId": "df9bdead-e23b-4ecf-d4a1-7034205640b2",
        "colab": {
          "base_uri": "https://localhost:8080/"
        }
      },
      "source": [
        "predictions = model.predict(X_test, batch_size=BS)\n",
        "print(classification_report(y_test.argmax(axis=1), predictions.argmax(axis=1), target_names=labelNames)) # from scikit-learn, axis indicates which part you want to operate\n",
        "# U的support没有跟原文对上"
      ],
      "execution_count": 74,
      "outputs": [
        {
          "output_type": "stream",
          "text": [
            "              precision    recall  f1-score   support\n",
            "\n",
            "           0       0.63      0.37      0.46      1381\n",
            "           1       0.98      0.99      0.98      1575\n",
            "           2       0.94      0.95      0.94      1398\n",
            "           3       0.98      0.99      0.99      1428\n",
            "           4       0.94      0.97      0.95      1365\n",
            "           5       0.70      0.94      0.80      1263\n",
            "           6       0.97      0.97      0.97      1375\n",
            "           7       0.97      0.99      0.98      1459\n",
            "           8       0.97      0.99      0.98      1365\n",
            "           9       0.99      0.98      0.98      1392\n",
            "           A       0.99      0.99      0.99      2774\n",
            "           B       0.98      0.99      0.99      1734\n",
            "           C       0.99      0.99      0.99      4682\n",
            "           D       0.89      0.98      0.94      2027\n",
            "           E       0.99      0.99      0.99      2288\n",
            "           F       0.97      0.99      0.98       232\n",
            "           G       0.97      0.96      0.96      1152\n",
            "           H       0.98      0.98      0.98      1444\n",
            "           I       0.97      0.99      0.98       224\n",
            "           J       0.98      0.97      0.97      1699\n",
            "           K       0.97      0.99      0.98      1121\n",
            "           L       0.98      0.99      0.98      2317\n",
            "           M       0.99      1.00      0.99      2467\n",
            "           N       0.99      0.99      0.99      3802\n",
            "           O       0.93      0.96      0.94     11565\n",
            "           P       1.00      0.99      0.99      3868\n",
            "           Q       0.96      0.99      0.97      1162\n",
            "           R       0.99      0.99      0.99      2313\n",
            "           S       0.99      0.94      0.97      9684\n",
            "           T       1.00      0.99      0.99      4499\n",
            "           U       0.99      0.98      0.99      5801\n",
            "           V       0.96      1.00      0.98       836\n",
            "           W       0.98      0.99      0.98      2157\n",
            "           X       0.99      0.99      0.99      1254\n",
            "           Y       0.98      0.97      0.97      2172\n",
            "           Z       0.95      0.94      0.94      1215\n",
            "\n",
            "    accuracy                           0.97     88490\n",
            "   macro avg       0.96      0.96      0.96     88490\n",
            "weighted avg       0.97      0.97      0.96     88490\n",
            "\n"
          ],
          "name": "stdout"
        }
      ]
    },
    {
      "cell_type": "code",
      "metadata": {
        "id": "31fOhrVyQFqv",
        "outputId": "2299290e-d44d-4adb-ca85-b7251dec7edd",
        "colab": {
          "base_uri": "https://localhost:8080/"
        }
      },
      "source": [
        "print(y_test.argmax(axis=1))\n",
        "print(y_test)\n",
        "print(predictions)\n",
        "print(y_test.shape)\n",
        "print(predictions.argmax(axis=1))"
      ],
      "execution_count": 75,
      "outputs": [
        {
          "output_type": "stream",
          "text": [
            "[24 35 29 ... 24 12 24]\n",
            "[[0 0 0 ... 0 0 0]\n",
            " [0 0 0 ... 0 0 1]\n",
            " [0 0 0 ... 0 0 0]\n",
            " ...\n",
            " [0 0 0 ... 0 0 0]\n",
            " [0 0 0 ... 0 0 0]\n",
            " [0 0 0 ... 0 0 0]]\n",
            "[[9.1394290e-02 4.3805409e-07 1.8422357e-06 ... 1.5422577e-08\n",
            "  4.8954458e-08 1.0199755e-07]\n",
            " [2.5471754e-08 9.4790028e-07 5.6180870e-04 ... 3.4651416e-07\n",
            "  8.5996890e-09 9.9898309e-01]\n",
            " [7.7013969e-09 8.3216109e-06 8.6671585e-09 ... 1.2600886e-07\n",
            "  1.3836799e-06 9.7261573e-06]\n",
            " ...\n",
            " [2.4597453e-01 3.4518180e-07 8.8311610e-04 ... 1.8535761e-07\n",
            "  6.4216636e-07 3.3734216e-06]\n",
            " [6.0803177e-05 2.2917821e-07 2.6183259e-05 ... 5.2177284e-06\n",
            "  6.0908881e-08 2.4004839e-04]\n",
            " [5.0580548e-03 3.7052075e-07 9.0063739e-05 ... 1.9606679e-08\n",
            "  3.6370963e-07 1.2126671e-08]]\n",
            "(88490, 36)\n",
            "[24 35 29 ... 24 12 24]\n"
          ],
          "name": "stdout"
        }
      ]
    },
    {
      "cell_type": "code",
      "metadata": {
        "id": "tz-zEvL_puC5",
        "outputId": "5dadb28f-9573-4245-d68f-99cb57dadeb9",
        "colab": {
          "base_uri": "https://localhost:8080/"
        }
      },
      "source": [
        "print(predictions.shape)\n",
        "print(y_test.shape)\n",
        "print(predictions.argmax(axis=1).shape)"
      ],
      "execution_count": 76,
      "outputs": [
        {
          "output_type": "stream",
          "text": [
            "(88490, 36)\n",
            "(88490, 36)\n",
            "(88490,)\n"
          ],
          "name": "stdout"
        }
      ]
    },
    {
      "cell_type": "code",
      "metadata": {
        "id": "C0j48E4ovpIa"
      },
      "source": [
        "#  save models\n",
        "model.save(filepath='/content/gdrive/My Drive/OCR Project/My_OCR_Model/my_model_2.h5',save_format=\"h5\")"
      ],
      "execution_count": 35,
      "outputs": []
    },
    {
      "cell_type": "code",
      "metadata": {
        "id": "3ay9vEx4aEgc"
      },
      "source": [
        "# save pictures of loss\n",
        "N = np.arange(0, EPOCHS)\n",
        "plt.style.use(\"ggplot\")\n",
        "plt.figure()\n",
        "plt.plot(N, H.history[\"loss\"], label=\"train_loss\") # loss is the error evaluated during training a model, val_loss is the error during validation\n",
        "plt.plot(N, H.history[\"val_loss\"], label=\"val_loss\") # Loss is calculated base on the train set, val_loss is calculated base on the validation set\n",
        "# If you have loss noticeably lower than val_loss it is the sign of overfitting\n",
        "plt.title(\"Training Loss and Accuracy\")\n",
        "plt.xlabel(\"Epoch #\")\n",
        "plt.ylabel(\"Loss/Accuracy\")\n",
        "plt.legend(loc=\"lower left\")\n",
        "plt.savefig('/content/gdrive/My Drive/OCR Project/My_OCR_Model/2.png')"
      ],
      "execution_count": 36,
      "outputs": []
    },
    {
      "cell_type": "code",
      "metadata": {
        "id": "UrpDOv6WfH3X",
        "outputId": "e0c00f2f-495c-4c7a-b36f-0d3916c84845",
        "colab": {
          "base_uri": "https://localhost:8080/",
          "height": 514
        }
      },
      "source": [
        "output_img=[]\n",
        "\n",
        "pred_list=[]\n",
        "\n",
        "# randomly pick 64 testing characters to form 8x8 grid\n",
        "for i in np.random.choice(np.arange(0,len(y_test)),size=(25,)):\n",
        "  predict_probs=model.predict(X_test[i:i+10])\n",
        "  prediction=predict_probs.argmax(axis=1)\n",
        "  label=labelNames[prediction[0]]\n",
        "  pred_list.append(prediction[0])\n",
        "\n",
        "  image=(X_test[i]*255).astype(\"uint8\")\n",
        "  label_color=(0,255,0) # make the correct class label green\n",
        "\n",
        "  if prediction[0]!= np.argmax(y_test[i]):\n",
        "    label_color=(0,0,255)\n",
        "  \n",
        "  image=cv2.merge([image]*3) # merge 3 channels\n",
        "  image=cv2.resize(image,(96,96),interpolation=cv2.INTER_LINEAR) # resize the image for clear output\n",
        "  cv2.putText(img=image, text=label, org=(5,20), fontFace=cv2.FONT_HERSHEY_SIMPLEX, fontScale=0.75, color=label_color, thickness=2)\n",
        "\n",
        "  output_img.append(image)\n",
        "\n",
        "montage=build_montages(output_img,(96,96),(5,5))[0]\n",
        "\n",
        "cv2_imshow(montage)\n",
        "cv2.waitKey(0)\n"
      ],
      "execution_count": 77,
      "outputs": [
        {
          "output_type": "display_data",
          "data": {
            "image/png": "[encoded data removed]",
            "text/plain": [
              "<PIL.Image.Image image mode=RGB size=480x480 at 0x7F76F0977C50>"
            ]
          },
          "metadata": {
            "tags": []
          }
        },
        {
          "output_type": "execute_result",
          "data": {
            "text/plain": [
              "-1"
            ]
          },
          "metadata": {
            "tags": []
          },
          "execution_count": 77
        }
      ]
    },
    {
      "cell_type": "code",
      "metadata": {
        "id": "BHoT7Z8pic8w",
        "outputId": "6ece8f8b-13ae-4182-bd38-92de9e7ea5bf",
        "colab": {
          "base_uri": "https://localhost:8080/",
          "height": 168
        }
      },
      "source": [
        "print(X_test[np.newaxis:5].shape)\n",
        "print(X_test[5].shape)\n",
        "print(X_test[np.newaxis:5][0].shape)\n",
        "cv2_imshow(X_test[5]*255)\n",
        "print(X_test.shape)\n",
        "print(prediction.shape)\n",
        "\n",
        "if X_test[np.newaxis:5][0].all() == X_test[np.newaxis:8][0].all():\n",
        "  print(1)\n",
        "\n",
        "print(pred_list)"
      ],
      "execution_count": 41,
      "outputs": [
        {
          "output_type": "stream",
          "text": [
            "(5, 32, 32, 1)\n",
            "(32, 32, 1)\n",
            "(32, 32, 1)\n"
          ],
          "name": "stdout"
        },
        {
          "output_type": "display_data",
          "data": {
            "image/png": "[encoded data removed]",
            "text/plain": [
              "<PIL.Image.Image image mode=RGB size=32x32 at 0x7F76FADB8F60>"
            ]
          },
          "metadata": {
            "tags": []
          }
        },
        {
          "output_type": "stream",
          "text": [
            "(88490, 32, 32, 1)\n",
            "(10,)\n",
            "1\n",
            "[22, 10, 23, 24, 19, 30, 29, 23, 2, 24, 33, 24, 13, 23, 3, 23, 24, 24, 5, 34, 24, 12, 24, 24, 32]\n"
          ],
          "name": "stdout"
        }
      ]
    },
    {
      "cell_type": "code",
      "metadata": {
        "id": "BXijD5mn0Rk6",
        "outputId": "5464db0b-5a0d-450e-ce46-ddd5db0cf7be",
        "colab": {
          "base_uri": "https://localhost:8080/",
          "height": 1000
        }
      },
      "source": [
        "hand_img_name='/content/gdrive/My Drive/OCR Project/A1.jpg'\n",
        "hand_img=cv2.imread(hand_img_name)\n",
        "grey_hand_img=cv2.cvtColor(hand_img,cv2.COLOR_BGR2GRAY)\n",
        "# cv2_imshow(grey_hand_img)\n",
        "neg_img=255.0-grey_hand_img\n",
        "print(grey_hand_img.shape)\n",
        "# cv2_imshow(neg_img)\n",
        "ret,thre=cv2.threshold(neg_img,100,250,cv2.THRESH_BINARY_INV)\n",
        "# cv2_imshow(thre)\n",
        "neg_thre=255.0-thre\n",
        "cv2_imshow(neg_thre)\n",
        "neg_thre_blur=cv2.GaussianBlur(neg_thre,(3,3),0)\n",
        "cv2_imshow(neg_thre_blur)"
      ],
      "execution_count": 68,
      "outputs": [
        {
          "output_type": "stream",
          "text": [
            "(911, 911)\n"
          ],
          "name": "stdout"
        },
        {
          "output_type": "display_data",
          "data": {
            "image/png": "[encoded data removed]",
            "text/plain": [
              "<PIL.Image.Image image mode=L size=911x911 at 0x7F76F09FB828>"
            ]
          },
          "metadata": {
            "tags": []
          }
        },
        {
          "output_type": "display_data",
          "data": {
            "image/png": "[encoded data removed]",
            "text/plain": [
              "<PIL.Image.Image image mode=L size=911x911 at 0x7F76F09FB860>"
            ]
          },
          "metadata": {
            "tags": []
          }
        }
      ]
    },
    {
      "cell_type": "code",
      "metadata": {
        "id": "wnxZkgsxXlMs",
        "outputId": "4336f20b-3591-405c-97a5-b79e921313b6",
        "colab": {
          "base_uri": "https://localhost:8080/",
          "height": 49
        }
      },
      "source": [
        "hand_img=cv2.resize(neg_thre_blur,(32,32))\n",
        "cv2_imshow(hand_img)"
      ],
      "execution_count": 69,
      "outputs": [
        {
          "output_type": "display_data",
          "data": {
            "image/png": "[encoded data removed]",
            "text/plain": [
              "<PIL.Image.Image image mode=L size=32x32 at 0x7F76F0A52C50>"
            ]
          },
          "metadata": {
            "tags": []
          }
        }
      ]
    },
    {
      "cell_type": "code",
      "metadata": {
        "id": "yAtSkiSjX1dN"
      },
      "source": [
        "img_list=np.asarray([hand_img],dtype='float32')\n",
        "img_list/=255.0"
      ],
      "execution_count": 70,
      "outputs": []
    },
    {
      "cell_type": "code",
      "metadata": {
        "id": "G0betyuyYNO8",
        "outputId": "1f843c37-ce7c-4c11-a17c-3296b48d4145",
        "colab": {
          "base_uri": "https://localhost:8080/"
        }
      },
      "source": [
        "img_list=np.expand_dims(img_list,axis=-1)\n",
        "print(img_list.shape)"
      ],
      "execution_count": 71,
      "outputs": [
        {
          "output_type": "stream",
          "text": [
            "(1, 32, 32, 1)\n"
          ],
          "name": "stdout"
        }
      ]
    },
    {
      "cell_type": "code",
      "metadata": {
        "id": "aJLkq5CjYGsi",
        "outputId": "f4189d67-488d-4158-e277-536fe7e93881",
        "colab": {
          "base_uri": "https://localhost:8080/"
        }
      },
      "source": [
        "print(X_test[0:1].shape)"
      ],
      "execution_count": 72,
      "outputs": [
        {
          "output_type": "stream",
          "text": [
            "(1, 32, 32, 1)\n"
          ],
          "name": "stdout"
        }
      ]
    },
    {
      "cell_type": "code",
      "metadata": {
        "id": "ox537kf0Y1Op",
        "outputId": "f8b154e5-06fb-4f28-84b1-4082575c46df",
        "colab": {
          "base_uri": "https://localhost:8080/"
        }
      },
      "source": [
        "predict_probs_hand=model.predict(img_list)\n",
        "pred_results_hand=predict_probs_hand.argmax(axis=1)\n",
        "print(pred_results_hand)\n",
        "label=labelNames[pred_results_hand[0]]\n",
        "print(label)"
      ],
      "execution_count": 73,
      "outputs": [
        {
          "output_type": "stream",
          "text": [
            "[10]\n",
            "A\n"
          ],
          "name": "stdout"
        }
      ]
    }
  ]
}