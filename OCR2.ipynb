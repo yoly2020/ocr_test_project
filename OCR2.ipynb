{
  "nbformat": 4,
  "nbformat_minor": 0,
  "metadata": {
    "colab": {
      "name": "OCR2.ipynb",
      "provenance": [],
      "collapsed_sections": [],
      "authorship_tag": "ABX9TyOkwIUIDLo7o0exgFiK+4Mv",
      "include_colab_link": true
    },
    "kernelspec": {
      "name": "python3",
      "display_name": "Python 3"
    }
  },
  "cells": [
    {
      "cell_type": "markdown",
      "metadata": {
        "id": "view-in-github",
        "colab_type": "text"
      },
      "source": [
        "<a href=\"https://colab.research.google.com/github/yoly2020/ocr_test_project/blob/main/OCR2.ipynb\" target=\"_parent\"><img src=\"https://colab.research.google.com/assets/colab-badge.svg\" alt=\"Open In Colab\"/></a>"
      ]
    },
    {
      "cell_type": "markdown",
      "metadata": {
        "id": "oc9WvG51soNf"
      },
      "source": [
        "###预处理"
      ]
    },
    {
      "cell_type": "code",
      "metadata": {
        "id": "GHILcoP-h7kB"
      },
      "source": [
        "from google.colab import drive\n",
        "drive.mount('/content/gdrive')"
      ],
      "execution_count": null,
      "outputs": []
    },
    {
      "cell_type": "markdown",
      "metadata": {
        "id": "VkcmTntfm17R"
      },
      "source": [
        " 常数定义"
      ]
    },
    {
      "cell_type": "code",
      "metadata": {
        "id": "09k2Xzf8hvYB"
      },
      "source": [
        "# CNN constants\n",
        "CNN_IN_WIDTH=64\n",
        "CNN_IN_HEIGHT=32\n",
        "\n",
        "# data augmentation constants\n",
        "DATA_AUG_POS_SHIFT_MIN=-2\n",
        "DATA_AUG_POS_SHIFT_MAX=2\n",
        "DATA_AUG_SCALES=[0,9.1.1]\n",
        "DATA_AUG_ROT_MIN=-15\n",
        "DATA_AUG_ROT_MAX=15\n",
        "\n",
        "# 文件位置相关常量\n",
        "TRAIN_DIR='flickr_logos_27_dataset'\n",
        "TRAIN_IMAGE_DIR=os.path.join(TRAIN_DIR,'flickr_logos_27_dataset_images')\n",
        "CROPPED_AUG_IMAGE_DIR=os.path.join(TRAIN_DIR,'flickr_logos_27_dataset_cropped_augmented_images')\n",
        "ANNOT_FILE='flickr_logos_27_dataset_training_set_annotation.txt'\n",
        "NONE_IMAGE_DIR=os.path.join(TRAIN_DIR,'empty_dir')\n",
        "NUM_OF_NONE_IMAGES=1000\n",
        "\n",
        "# class constants\n",
        "CLASS_NAME = ['Adidas', 'Apple', 'BMW', 'Citroen', 'Cocacola', 'DHL', 'Fedex', 'Ferrari',\n",
        "    'Ford', 'Google', 'HP', 'Heineken', 'Intel', 'McDonalds', 'Mini', 'Nbc',\n",
        "    'Nike', 'Pepsi', 'Porsche', 'Puma', 'RedBull', 'Sprite', 'Starbucks',\n",
        "    'Texaco', 'Unicef', 'Vodafone', 'Yahoo']"
      ],
      "execution_count": null,
      "outputs": []
    },
    {
      "cell_type": "markdown",
      "metadata": {
        "id": "Ma9uFf5RsAlh"
      },
      "source": [
        "加载包"
      ]
    },
    {
      "cell_type": "code",
      "metadata": {
        "id": "GA2bmRqRsFCp"
      },
      "source": [
        "import numpy as np\n",
        "from PIL import Image\n",
        "from collections import defaultdict\n",
        "from itertools import product\n",
        "from sklearn.model_selection import train_test_split\n",
        "import shutil\n",
        "import re\n",
        "import glob"
      ],
      "execution_count": null,
      "outputs": []
    },
    {
      "cell_type": "code",
      "metadata": {
        "id": "V9EP5rTcpUVX"
      },
      "source": [
        "import os\n",
        "os.chdir('/content/gdrive/My Drive/OCR Project/Logo Project/')"
      ],
      "execution_count": null,
      "outputs": []
    },
    {
      "cell_type": "markdown",
      "metadata": {
        "id": "d5f-9dkasZDI"
      },
      "source": [
        "###第一步，image augmentation and cropping"
      ]
    },
    {
      "cell_type": "markdown",
      "metadata": {
        "id": "qFM7oN8Pslud"
      },
      "source": [
        "定义所需函数"
      ]
    },
    {
      "cell_type": "code",
      "metadata": {
        "id": "4z1hZ9j_pkMx"
      },
      "source": [
        "# 解析读入的有image标记的txt文件'flickr_logos_27_dataset_training_set_annotation.txt'\n",
        "\n",
        "def parse_annot(annot):\n",
        "  fn=annot[0].decode('utf-8') # 解析utf8格式的string\n",
        "  class_name=annot[1].decode('utf-8')\n",
        "  train_subset_class=annot[2].decode('utf-8')\n",
        "  return fn,class_name,train_subset_class\n"
      ],
      "execution_count": null,
      "outputs": []
    },
    {
      "cell_type": "code",
      "metadata": {
        "id": "NGBnxppVqdgY"
      },
      "source": [
        "def get_rect(annot):\n",
        "  rect=defaultdict(int)\n",
        "  x1,y1,x2,y2=rect_coord(annot[3:]) # top-left -> bottom-right\n",
        "  cx,cy,width,height=center_width_height(x1,y1,x2,y2)\n",
        "  rect['x1']=x1\n",
        "  rect[]"
      ],
      "execution_count": null,
      "outputs": []
    },
    {
      "cell_type": "code",
      "metadata": {
        "id": "6KsA9sK6tY7k"
      },
      "source": [
        "def center_width_height(x1,y1,x2,y2):\n",
        "  cx=x1+(x2-x1)//2 # 向下取整的整除\n",
        "  cy=y1+(y2-y1)//2\n",
        "  width=(x2-x1)\n",
        "  hight=(y2-y1)\n",
        "  return cx,cy,width,height"
      ],
      "execution_count": null,
      "outputs": []
    }
  ]
}